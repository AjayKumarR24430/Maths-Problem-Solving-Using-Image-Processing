{
 "cells": [
  {
   "cell_type": "code",
   "execution_count": 1,
   "metadata": {},
   "outputs": [],
   "source": [
    "import tensorflow as tf\n"
   ]
  },
  {
   "cell_type": "code",
   "execution_count": 2,
   "metadata": {},
   "outputs": [
    {
     "name": "stderr",
     "output_type": "stream",
     "text": [
      "Using TensorFlow backend.\n"
     ]
    }
   ],
   "source": [
    "import os\n",
    "import cv2\n",
    "import pandas as pd\n",
    "import numpy as np\n",
    "import matplotlib.pyplot as plt\n",
    "import matplotlib.cm as cm  \n",
    "import keras\n",
    "import math\n",
    "from scipy import ndimage"
   ]
  },
  {
   "cell_type": "code",
   "execution_count": 20,
   "metadata": {},
   "outputs": [],
   "source": [
    "train_dir = \"C:/Users/HP/Downloads/archive/trainingSet/trainingSet\"\n"
   ]
  },
  {
   "cell_type": "code",
   "execution_count": 22,
   "metadata": {},
   "outputs": [
    {
     "name": "stdout",
     "output_type": "stream",
     "text": [
      "Found 35705 images belonging to 15 classes.\n",
      "Found 6295 images belonging to 15 classes.\n"
     ]
    }
   ],
   "source": [
    "# collect data\n",
    "from tensorflow.keras.preprocessing.image import ImageDataGenerator\n",
    "\n",
    "     \n",
    "train_datagen = ImageDataGenerator(rescale=1./255,\n",
    "    \n",
    "    data_format='channels_first',\n",
    "    validation_split=0.15) \n",
    "\n",
    "train_generator = train_datagen.flow_from_directory(\n",
    "    train_dir,\n",
    "    target_size=(28, 28),\n",
    "    color_mode = \"grayscale\",\n",
    "    batch_size=20,\n",
    "    shuffle = True,\n",
    "    classes = ['0','1','2','3','4','5','6','7','8','9','+','-','times','(',')'],\n",
    "    class_mode=\"sparse\",\n",
    "    subset='training') \n",
    "\n",
    "validation_generator = train_datagen.flow_from_directory(\n",
    "    train_dir, # same directory as training data\n",
    "    target_size=(28, 28),\n",
    "    color_mode = \"grayscale\",\n",
    "    batch_size=20,\n",
    "    shuffle = True,\n",
    "    classes = ['0','1','2','3','4','5','6','7','8','9','+','-','times','(',')'],\n",
    "    class_mode=\"sparse\",\n",
    "    subset='validation')\n"
   ]
  },
  {
   "cell_type": "code",
   "execution_count": 23,
   "metadata": {},
   "outputs": [],
   "source": [
    "#MODEL\n",
    "\n",
    "\n",
    "import keras\n",
    "keras.backend.set_image_data_format('channels_first')"
   ]
  },
  {
   "cell_type": "code",
   "execution_count": 24,
   "metadata": {},
   "outputs": [
    {
     "name": "stderr",
     "output_type": "stream",
     "text": [
      "C:\\ProgramData\\Anaconda3\\lib\\site-packages\\ipykernel_launcher.py:16: UserWarning: Update your `Conv2D` call to the Keras 2 API: `Conv2D(64, (5, 5), activation=\"relu\", padding=\"same\")`\n",
      "  app.launch_new_instance()\n",
      "C:\\ProgramData\\Anaconda3\\lib\\site-packages\\ipykernel_launcher.py:17: UserWarning: Update your `Conv2D` call to the Keras 2 API: `Conv2D(64, (5, 5), activation=\"relu\", padding=\"same\")`\n",
      "C:\\ProgramData\\Anaconda3\\lib\\site-packages\\ipykernel_launcher.py:20: UserWarning: Update your `MaxPooling2D` call to the Keras 2 API: `MaxPooling2D(strides=(2, 2), padding=\"same\")`\n",
      "C:\\ProgramData\\Anaconda3\\lib\\site-packages\\ipykernel_launcher.py:22: UserWarning: Update your `Conv2D` call to the Keras 2 API: `Conv2D(128, (4, 4), activation=\"relu\", padding=\"same\")`\n",
      "C:\\ProgramData\\Anaconda3\\lib\\site-packages\\ipykernel_launcher.py:23: UserWarning: Update your `Conv2D` call to the Keras 2 API: `Conv2D(128, (4, 4), activation=\"relu\", padding=\"same\")`\n",
      "C:\\ProgramData\\Anaconda3\\lib\\site-packages\\ipykernel_launcher.py:25: UserWarning: Update your `MaxPooling2D` call to the Keras 2 API: `MaxPooling2D(strides=(2, 2), padding=\"same\")`\n",
      "C:\\ProgramData\\Anaconda3\\lib\\site-packages\\ipykernel_launcher.py:27: UserWarning: Update your `Conv2D` call to the Keras 2 API: `Conv2D(256, (3, 3), activation=\"relu\", padding=\"same\")`\n",
      "C:\\ProgramData\\Anaconda3\\lib\\site-packages\\ipykernel_launcher.py:28: UserWarning: Update your `Conv2D` call to the Keras 2 API: `Conv2D(256, (3, 3), activation=\"relu\", padding=\"same\")`\n",
      "C:\\ProgramData\\Anaconda3\\lib\\site-packages\\ipykernel_launcher.py:29: UserWarning: Update your `Conv2D` call to the Keras 2 API: `Conv2D(256, (3, 3), activation=\"relu\", padding=\"same\")`\n",
      "C:\\ProgramData\\Anaconda3\\lib\\site-packages\\ipykernel_launcher.py:30: UserWarning: Update your `Conv2D` call to the Keras 2 API: `Conv2D(256, (3, 3), activation=\"relu\", padding=\"same\")`\n",
      "C:\\ProgramData\\Anaconda3\\lib\\site-packages\\ipykernel_launcher.py:31: UserWarning: Update your `Conv2D` call to the Keras 2 API: `Conv2D(256, (3, 3), activation=\"relu\", padding=\"same\")`\n",
      "C:\\ProgramData\\Anaconda3\\lib\\site-packages\\ipykernel_launcher.py:32: UserWarning: Update your `Conv2D` call to the Keras 2 API: `Conv2D(256, (3, 3), activation=\"relu\", padding=\"same\")`\n",
      "C:\\ProgramData\\Anaconda3\\lib\\site-packages\\ipykernel_launcher.py:34: UserWarning: Update your `MaxPooling2D` call to the Keras 2 API: `MaxPooling2D(strides=(2, 2), padding=\"same\")`\n"
     ]
    },
    {
     "name": "stdout",
     "output_type": "stream",
     "text": [
      "Model: \"model_2\"\n",
      "__________________________________________________________________________________________________\n",
      "Layer (type)                    Output Shape         Param #     Connected to                     \n",
      "==================================================================================================\n",
      "input_2 (InputLayer)            (None, 1, 28, 28)    0                                            \n",
      "__________________________________________________________________________________________________\n",
      "conv2d_11 (Conv2D)              (None, 64, 28, 28)   1664        input_2[0][0]                    \n",
      "__________________________________________________________________________________________________\n",
      "conv2d_12 (Conv2D)              (None, 64, 28, 28)   1664        input_2[0][0]                    \n",
      "__________________________________________________________________________________________________\n",
      "merge1 (Concatenate)            (None, 128, 28, 28)  0           conv2d_11[0][0]                  \n",
      "                                                                 conv2d_12[0][0]                  \n",
      "__________________________________________________________________________________________________\n",
      "max_pooling2d_4 (MaxPooling2D)  (None, 128, 14, 14)  0           merge1[0][0]                     \n",
      "__________________________________________________________________________________________________\n",
      "conv2d_13 (Conv2D)              (None, 128, 14, 14)  262272      max_pooling2d_4[0][0]            \n",
      "__________________________________________________________________________________________________\n",
      "conv2d_14 (Conv2D)              (None, 128, 14, 14)  262272      max_pooling2d_4[0][0]            \n",
      "__________________________________________________________________________________________________\n",
      "merge2 (Concatenate)            (None, 256, 14, 14)  0           conv2d_13[0][0]                  \n",
      "                                                                 conv2d_14[0][0]                  \n",
      "__________________________________________________________________________________________________\n",
      "max_pooling2d_5 (MaxPooling2D)  (None, 256, 7, 7)    0           merge2[0][0]                     \n",
      "__________________________________________________________________________________________________\n",
      "conv2d_15 (Conv2D)              (None, 256, 7, 7)    590080      max_pooling2d_5[0][0]            \n",
      "__________________________________________________________________________________________________\n",
      "conv2d_16 (Conv2D)              (None, 256, 7, 7)    590080      max_pooling2d_5[0][0]            \n",
      "__________________________________________________________________________________________________\n",
      "conv2d_17 (Conv2D)              (None, 256, 7, 7)    590080      max_pooling2d_5[0][0]            \n",
      "__________________________________________________________________________________________________\n",
      "conv2d_18 (Conv2D)              (None, 256, 7, 7)    590080      max_pooling2d_5[0][0]            \n",
      "__________________________________________________________________________________________________\n",
      "conv2d_19 (Conv2D)              (None, 256, 7, 7)    590080      max_pooling2d_5[0][0]            \n",
      "__________________________________________________________________________________________________\n",
      "conv2d_20 (Conv2D)              (None, 256, 7, 7)    590080      max_pooling2d_5[0][0]            \n",
      "__________________________________________________________________________________________________\n",
      "merge3 (Concatenate)            (None, 1536, 7, 7)   0           conv2d_15[0][0]                  \n",
      "                                                                 conv2d_16[0][0]                  \n",
      "                                                                 conv2d_17[0][0]                  \n",
      "                                                                 conv2d_18[0][0]                  \n",
      "                                                                 conv2d_19[0][0]                  \n",
      "                                                                 conv2d_20[0][0]                  \n",
      "__________________________________________________________________________________________________\n",
      "max_pooling2d_6 (MaxPooling2D)  (None, 1536, 4, 4)   0           merge3[0][0]                     \n",
      "__________________________________________________________________________________________________\n",
      "dropout_2 (Dropout)             (None, 1536, 4, 4)   0           max_pooling2d_6[0][0]            \n",
      "__________________________________________________________________________________________________\n",
      "flatten_2 (Flatten)             (None, 24576)        0           dropout_2[0][0]                  \n",
      "__________________________________________________________________________________________________\n",
      "dense_2 (Dense)                 (None, 15)           368655      flatten_2[0][0]                  \n",
      "==================================================================================================\n",
      "Total params: 4,437,007\n",
      "Trainable params: 4,437,007\n",
      "Non-trainable params: 0\n",
      "__________________________________________________________________________________________________\n"
     ]
    },
    {
     "name": "stderr",
     "output_type": "stream",
     "text": [
      "C:\\ProgramData\\Anaconda3\\lib\\site-packages\\ipykernel_launcher.py:41: UserWarning: Update your `Model` call to the Keras 2 API: `Model(inputs=Tensor(\"in..., outputs=Tensor(\"de...)`\n"
     ]
    }
   ],
   "source": [
    "from keras.layers import merge, Input, concatenate\n",
    "from keras.models import Model\n",
    "from keras.layers.core import Dense, Dropout, Flatten\n",
    "from keras.layers.convolutional import MaxPooling2D, Convolution2D\n",
    "img_rows, img_cols = 28, 28\n",
    "\n",
    "nb_filters_1 = 64\n",
    "nb_filters_2 = 128\n",
    "nb_filters_3 = 256\n",
    "nb_conv = 3\n",
    "nb_conv_mid = 4\n",
    "nb_conv_init = 5\n",
    "\n",
    "init = Input(shape=(1, 28, 28),)\n",
    "\n",
    "fork11 = Convolution2D(nb_filters_1, nb_conv_init, nb_conv_init,  activation=\"relu\", border_mode='same')(init)\n",
    "fork12 = Convolution2D(nb_filters_1, nb_conv_init, nb_conv_init, activation=\"relu\", border_mode='same')(init)\n",
    "merge1 = concatenate([fork11, fork12], axis=1, name='merge1')\n",
    "# concat_feat = concatenate([concat_feat, x], mode='concat', axis=concat_axis, name='concat_'+str(stage)+'_'+str(branch))\n",
    "maxpool1 = MaxPooling2D(strides=(2,2), border_mode='same')(merge1)\n",
    "\n",
    "fork21 = Convolution2D(nb_filters_2, nb_conv_mid, nb_conv_mid, activation=\"relu\", border_mode='same')(maxpool1)\n",
    "fork22 = Convolution2D(nb_filters_2, nb_conv_mid, nb_conv_mid, activation=\"relu\", border_mode='same')(maxpool1)\n",
    "merge2 = concatenate([fork21, fork22, ], axis=1, name='merge2')\n",
    "maxpool2 = MaxPooling2D(strides=(2,2), border_mode='same')(merge2)\n",
    "\n",
    "fork31 = Convolution2D(nb_filters_3, nb_conv, nb_conv, activation=\"relu\", border_mode='same')(maxpool2)\n",
    "fork32 = Convolution2D(nb_filters_3, nb_conv, nb_conv, activation=\"relu\", border_mode='same')(maxpool2)\n",
    "fork33 = Convolution2D(nb_filters_3, nb_conv, nb_conv, activation=\"relu\", border_mode='same')(maxpool2)\n",
    "fork34 = Convolution2D(nb_filters_3, nb_conv, nb_conv, activation=\"relu\", border_mode='same')(maxpool2)\n",
    "fork35 = Convolution2D(nb_filters_3, nb_conv, nb_conv, activation=\"relu\", border_mode='same')(maxpool2)\n",
    "fork36 = Convolution2D(nb_filters_3, nb_conv, nb_conv, activation=\"relu\", border_mode='same')(maxpool2)\n",
    "merge3 = concatenate([fork31, fork32, fork33, fork34, fork35, fork36, ], axis=1, name='merge3')\n",
    "maxpool3 = MaxPooling2D(strides=(2,2), border_mode='same')(merge3)\n",
    "\n",
    "dropout = Dropout(0.5)(maxpool3)\n",
    "\n",
    "flatten = Flatten()(dropout)\n",
    "output = Dense(15, activation=\"softmax\")(flatten)\n",
    "\n",
    "model = Model(input=init, output=output)\n",
    "\n",
    "model.summary()"
   ]
  },
  {
   "cell_type": "code",
   "execution_count": 25,
   "metadata": {},
   "outputs": [
    {
     "name": "stdout",
     "output_type": "stream",
     "text": [
      "Epoch 1/10\n",
      "100/100 [==============================] - 124s 1s/step - loss: 0.8920 - accuracy: 0.7015 - val_loss: 0.2831 - val_accuracy: 0.8705\n",
      "Epoch 2/10\n",
      "100/100 [==============================] - 119s 1s/step - loss: 0.2095 - accuracy: 0.9310 - val_loss: 0.1095 - val_accuracy: 0.9530\n",
      "Epoch 3/10\n",
      "100/100 [==============================] - 118s 1s/step - loss: 0.1351 - accuracy: 0.9620 - val_loss: 0.3376 - val_accuracy: 0.9550\n",
      "Epoch 4/10\n",
      "100/100 [==============================] - 98s 981ms/step - loss: 0.1135 - accuracy: 0.9625 - val_loss: 0.0867 - val_accuracy: 0.9534\n",
      "Epoch 5/10\n",
      "100/100 [==============================] - 101s 1s/step - loss: 0.0881 - accuracy: 0.9760 - val_loss: 0.0234 - val_accuracy: 0.9760\n",
      "Epoch 6/10\n",
      "100/100 [==============================] - 100s 997ms/step - loss: 0.1076 - accuracy: 0.9685 - val_loss: 0.0215 - val_accuracy: 0.9775\n",
      "Epoch 7/10\n",
      "100/100 [==============================] - 99s 986ms/step - loss: 0.0777 - accuracy: 0.9735 - val_loss: 0.2440 - val_accuracy: 0.9774\n",
      "Epoch 8/10\n",
      "100/100 [==============================] - 99s 992ms/step - loss: 0.0929 - accuracy: 0.9740 - val_loss: 0.0296 - val_accuracy: 0.9800\n",
      "Epoch 9/10\n",
      "100/100 [==============================] - 99s 992ms/step - loss: 0.0683 - accuracy: 0.9755 - val_loss: 0.0342 - val_accuracy: 0.9845\n",
      "Epoch 10/10\n",
      "100/100 [==============================] - 100s 998ms/step - loss: 0.0704 - accuracy: 0.9785 - val_loss: 0.0668 - val_accuracy: 0.9759\n"
     ]
    }
   ],
   "source": [
    "\n",
    "from keras import optimizers\n",
    "ada = keras.optimizers.Adadelta(learning_rate=1.0, rho=0.95)\n",
    "model.compile(optimizer=ada,\n",
    "              loss='sparse_categorical_crossentropy',\n",
    "              metrics=['accuracy'])\n",
    "history = model.fit_generator(train_generator,\n",
    "                              validation_data=validation_generator,\n",
    "                              steps_per_epoch=100,\n",
    "                              validation_steps=100,\n",
    "                              epochs=10)"
   ]
  },
  {
   "cell_type": "code",
   "execution_count": 27,
   "metadata": {},
   "outputs": [],
   "source": [
    "model.save('C:/Users/HP/Documents/Maths Problem Solving Using Image Processing/models/Digits-model.h5')"
   ]
  },
  {
   "cell_type": "code",
   "execution_count": null,
   "metadata": {},
   "outputs": [],
   "source": []
  }
 ],
 "metadata": {
  "kernelspec": {
   "display_name": "Python 3",
   "language": "python",
   "name": "python3"
  },
  "language_info": {
   "codemirror_mode": {
    "name": "ipython",
    "version": 3
   },
   "file_extension": ".py",
   "mimetype": "text/x-python",
   "name": "python",
   "nbconvert_exporter": "python",
   "pygments_lexer": "ipython3",
   "version": "3.7.3"
  }
 },
 "nbformat": 4,
 "nbformat_minor": 4
}
